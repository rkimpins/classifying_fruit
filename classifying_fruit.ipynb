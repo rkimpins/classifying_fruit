{
 "cells": [
  {
   "cell_type": "code",
   "execution_count": 81,
   "metadata": {},
   "outputs": [],
   "source": [
    "# Import\n",
    "import numpy as np\n",
    "import pandas as pd\n",
    "import matplotlib.pyplot as plt\n",
    "from sklearn.model_selection import train_test_split\n",
    "from sklearn.preprocessing import MinMaxScaler\n",
    "from sklearn.linear_model import LogisticRegression\n",
    "from sklearn.linear_model import LinearRegression\n",
    "from sklearn import svm\n",
    "from sklearn import tree\n",
    "from sklearn.model_selection import KFold"
   ]
  },
  {
   "cell_type": "markdown",
   "metadata": {},
   "source": [
    "## Read and format dataset"
   ]
  },
  {
   "cell_type": "code",
   "execution_count": 56,
   "metadata": {},
   "outputs": [],
   "source": [
    "def get_data():\n",
    "    # dataset from https://github.com/susanli2016/Machine-Learning-with-Python/blob/master/fruit_data_with_colors.txt\n",
    "    df = pd.read_csv('fruit.txt', sep='\\t')\n",
    "    # Randomize the order\n",
    "    df = df.sample(frac=1).reset_index(drop=True)\n",
    "    target = df[\"fruit_label\"]\n",
    "    data = df.iloc[:,3:]\n",
    "    #size = int(df.shape[0] * 0.1)\n",
    "    size = 10\n",
    "    x_train, x_test, y_train, y_test = train_test_split(data, target, test_size = size, random_state = 0)\n",
    "    #print(f\"Training set size: {x_train.shape[0]}, Test set size: {x_test.shape[0]}\")\n",
    "    x_train = np.array(x_train.values)\n",
    "    x_test = np.array(x_test.values)\n",
    "    y_train = np.array(y_train.values)\n",
    "    y_test = np.array(y_test.values)\n",
    "    return x_train, x_test, y_train, y_test"
   ]
  },
  {
   "cell_type": "markdown",
   "metadata": {},
   "source": [
    "## Baseline"
   ]
  },
  {
   "cell_type": "code",
   "execution_count": null,
   "metadata": {},
   "outputs": [],
   "source": [
    "df = pd.read_csv('fruit.txt', sep='\\t')\n",
    "print(f\"Most common target is {df.fruit_label.mode()[0]} or {df.fruit_label.mode()[1]} (tied)\")\n",
    "print(f\"Accuracy of majority guess is {df.fruit_label.value_counts().max()} / {df.shape[0]} = {df.fruit_label.value_counts().max() / df.shape[0]}\")\n",
    "colors = [\"red\",\"orange\", \"darkorange\",\"yellow\"]\n",
    "plt.bar(df.fruit_name.unique(), np.array(df.groupby('fruit_name').size()),color= colors)"
   ]
  },
  {
   "cell_type": "markdown",
   "metadata": {},
   "source": [
    "## Machine Learning algorithms as modular units"
   ]
  },
  {
   "cell_type": "code",
   "execution_count": 39,
   "metadata": {},
   "outputs": [],
   "source": [
    "# Logistic regression\n",
    "def run_log_reg(C, max_iterations, x_train, y_train, x_val, y_val):\n",
    "    log_reg = LogisticRegression(solver=\"lbfgs\", max_iter=max_iterations, multi_class=\"auto\", C = C)\n",
    "    log_reg.fit(x_train, y_train)\n",
    "    train_score = log_reg.score(x_train, y_train)\n",
    "    val_score = log_reg.score(x_val, y_val)\n",
    "    return train_score, val_score"
   ]
  },
  {
   "cell_type": "code",
   "execution_count": 40,
   "metadata": {},
   "outputs": [],
   "source": [
    "# SVM max margin classification\n",
    "def run_svc(C, gamma, x_train, y_train, x_val, y_val):\n",
    "    clf = svm.SVC(gamma=gamma, C = C)#kernel='poly',degree = 3, gamma='scale')\n",
    "    clf.fit(x_train, y_train)\n",
    "    train_score = clf.score(x_train, y_train)\n",
    "    val_score = clf.score(x_val, y_val)\n",
    "    return train_score, val_score"
   ]
  },
  {
   "cell_type": "code",
   "execution_count": 41,
   "metadata": {},
   "outputs": [],
   "source": [
    "# Decision Tree\n",
    "def run_tree(max_depth, x_train, y_train, x_val, y_val):\n",
    "    clf = tree.DecisionTreeClassifier(splitter=\"random\", max_depth=max_depth)\n",
    "    clf = clf.fit(x_train, y_train)\n",
    "    train_score = clf.score(x_train, y_train)\n",
    "    val_score = clf.score(x_val, y_val)\n",
    "    tree.plot_tree(clf)\n",
    "    return train_score, val_score"
   ]
  },
  {
   "cell_type": "markdown",
   "metadata": {},
   "source": [
    "## Hyperparameter tuning functions"
   ]
  },
  {
   "cell_type": "code",
   "execution_count": 57,
   "metadata": {},
   "outputs": [
    {
     "name": "stdout",
     "output_type": "stream",
     "text": [
      "0.7555555555555555 0.8\n",
      "Best C: 0.8\n",
      "Best validation performance: 0.74\n",
      "Test performance: 0.8\n"
     ]
    },
    {
     "data": {
      "image/png": "[encoded data removed]",
      "text/plain": [
       "<Figure size 432x288 with 1 Axes>"
      ]
     },
     "metadata": {
      "needs_background": "light"
     },
     "output_type": "display_data"
    },
    {
     "data": {
      "text/plain": [
       "(0.74, 0.8, 0.8)"
      ]
     },
     "execution_count": 57,
     "metadata": {},
     "output_type": "execute_result"
    }
   ],
   "source": [
    "def tune_log_reg(verbose=False):\n",
    "    # Hyperparameter Tuning\n",
    "    x_rest, x_test, y_rest, y_test = get_data()\n",
    "    Cs = [0.01, 0.01, 0.05, 0.09, 0.1, 0.11, 0.15, 0.2, 0.5, 0.8, 0.9, 0.95, 0.96, 0.97, 0.98, 0.99, 1]\n",
    "    max_iters_tuning = [10000]\n",
    "    train_scores = []\n",
    "    val_scores = []\n",
    "    max_train = 0\n",
    "    max_val = 0\n",
    "    best_C = 0\n",
    "    best_iters = 0\n",
    "    splits = 10\n",
    "    for C in Cs:\n",
    "        for max_iters in max_iters_tuning:\n",
    "            kf = KFold(n_splits=splits)\n",
    "            kf.get_n_splits(x_rest)\n",
    "            split_train_scores = []\n",
    "            split_val_scores = []\n",
    "            for train_index, val_index in kf.split(x_rest):\n",
    "                x_train, x_val = x_rest[train_index], x_rest[val_index]\n",
    "                y_train, y_val = y_rest[train_index], y_rest[val_index]\n",
    "                train_score, val_score = run_log_reg(C, max_iters, x_train, y_train, x_val, y_val)\n",
    "                split_train_scores.append(train_score)\n",
    "                split_val_scores.append(val_score)\n",
    "            train_score = sum(split_train_scores) / len(split_train_scores)\n",
    "            val_score = sum(split_val_scores) / len(split_val_scores)\n",
    "            train_scores.append(train_score)\n",
    "            val_scores.append(val_score)\n",
    "            if val_score > max_val:\n",
    "                best_C = C\n",
    "                best_iters = max_iters\n",
    "                max_val = val_score\n",
    "\n",
    "    train_score, test_score = run_log_reg(best_C, best_iters, x_train, y_train, x_test, y_test)\n",
    "    if verbose:\n",
    "        print(train_score, test_score)\n",
    "        print(f\"Best C: {best_C}\")\n",
    "        print(f\"Best validation performance: {max_val}\")\n",
    "        print(f\"Test performance: {test_score}\")\n",
    "        plt.plot(Cs, val_scores)\n",
    "        plt.title(\"Logistic Regression Hyperparameter (C) tuning\")\n",
    "        plt.show()\n",
    "    return max_val, test_score, best_C\n",
    "tune_log_reg(verbose=True)"
   ]
  },
  {
   "cell_type": "code",
   "execution_count": 54,
   "metadata": {},
   "outputs": [
    {
     "name": "stdout",
     "output_type": "stream",
     "text": [
      "Training set size: 49, Test set size: 10\n",
      "0.9333333333333333 0.4\n",
      "Best gamma: 0.1\n",
      "Best C: 0.95\n",
      "Best validation performance: 0.63\n",
      "Test performance: 0.4\n"
     ]
    },
    {
     "data": {
      "text/plain": [
       "(0.63, 0.4, 0.95, 0.1)"
      ]
     },
     "execution_count": 54,
     "metadata": {},
     "output_type": "execute_result"
    }
   ],
   "source": [
    "def tune_svc(verbose=False):\n",
    "    # Hyperparameter Tuning\n",
    "    x_rest, x_test, y_rest, y_test = get_data()\n",
    "\n",
    "    gammas = [0.1, 0.2, 0.5, 0.9, 1]\n",
    "    #gammas = [0.2]\n",
    "    Cs = [0.01, 0.01, 0.05, 0.09, 0.1, 0.11, 0.15, 0.2, 0.5, 0.8, 0.9, 0.95, 0.96, 0.97, 0.98, 0.99, 1]\n",
    "    #Cs = [0.95]\n",
    "    train_scores = []\n",
    "    val_scores = []\n",
    "    max_train = 0\n",
    "    max_val = 0\n",
    "    best_C = 0\n",
    "    best_gamma = 0\n",
    "    splits = 10\n",
    "    for gamma in gammas:\n",
    "        for C in Cs:\n",
    "            kf = KFold(n_splits=splits)\n",
    "            kf.get_n_splits(x_rest)\n",
    "            split_train_scores = []\n",
    "            split_val_scores = []\n",
    "            for train_index, val_index in kf.split(x_rest):\n",
    "                x_train, x_val = x_rest[train_index], x_rest[val_index]\n",
    "                y_train, y_val = y_rest[train_index], y_rest[val_index]\n",
    "                train_score, val_score = run_svc(C, gamma, x_train, y_train, x_val, y_val)\n",
    "                split_train_scores.append(train_score)\n",
    "                split_val_scores.append(val_score)\n",
    "            train_score = sum(split_train_scores) / len(split_train_scores)\n",
    "            val_score = sum(split_val_scores) / len(split_val_scores)\n",
    "            train_scores.append(train_score)\n",
    "            val_scores.append(val_score)\n",
    "            if val_score > max_val:\n",
    "                best_gamma = gamma\n",
    "                best_C = C\n",
    "                max_val = val_score\n",
    "\n",
    "    train_score, test_score = run_svc(best_C, best_gamma, x_train, y_train, x_test, y_test)\n",
    "    if verbose:\n",
    "        print(train_score, test_score)\n",
    "        print(f\"Best gamma: {best_gamma}\")\n",
    "        print(f\"Best C: {best_C}\")\n",
    "        print(f\"Best validation performance: {max_val}\")\n",
    "        print(f\"Test performance: {test_score}\")\n",
    "        #plt.plot(Cs, val_scores)\n",
    "        #plt.title(\"SVC Hyperparameter (C, gamma = 0.2) tuning\")\n",
    "        #plt.show()\n",
    "    return max_val, test_score, best_C, best_gamma\n",
    "tune_svc(verbose=True)"
   ]
  },
  {
   "cell_type": "code",
   "execution_count": 55,
   "metadata": {},
   "outputs": [
    {
     "name": "stdout",
     "output_type": "stream",
     "text": [
      "Training set size: 49, Test set size: 10\n",
      "0.9555555555555556 0.9\n",
      "Best max depth: 6\n",
      "Best validation performance: 0.9\n",
      "Test performance: 0.9\n"
     ]
    },
    {
     "data": {
      "image/png": "[encoded data removed]",
      "text/plain": [
       "<Figure size 432x288 with 1 Axes>"
      ]
     },
     "metadata": {
      "needs_background": "light"
     },
     "output_type": "display_data"
    },
    {
     "data": {
      "text/plain": [
       "(0.9, 0.9, 6)"
      ]
     },
     "execution_count": 55,
     "metadata": {},
     "output_type": "execute_result"
    }
   ],
   "source": [
    "def tune_tree(verbose):\n",
    "    # Hyperparameter Tuning\n",
    "    x_rest, x_test, y_rest, y_test = get_data()\n",
    "\n",
    "    depths = [1, 2, 3, 4, 5, 6, 7, 8, 9, 10]\n",
    "    train_scores = []\n",
    "    val_scores = []\n",
    "    max_train = 0\n",
    "    max_val = 0\n",
    "    best_depth = 0\n",
    "    splits = 10\n",
    "    for depth in depths:\n",
    "        kf = KFold(n_splits=splits)\n",
    "        kf.get_n_splits(x_rest)\n",
    "        split_train_scores = []\n",
    "        split_val_scores = []\n",
    "        for train_index, val_index in kf.split(x_rest):\n",
    "            x_train, x_val = x_rest[train_index], x_rest[val_index]\n",
    "            y_train, y_val = y_rest[train_index], y_rest[val_index]\n",
    "            train_score, val_score = run_tree(depth, x_train, y_train, x_val, y_val)\n",
    "            split_train_scores.append(train_score)\n",
    "            split_val_scores.append(val_score)\n",
    "        train_score = sum(split_train_scores) / len(split_train_scores)\n",
    "        val_score = sum(split_val_scores) / len(split_val_scores)\n",
    "        train_scores.append(train_score)\n",
    "        val_scores.append(val_score)\n",
    "        if val_score > max_val:\n",
    "            best_depth = depth\n",
    "            max_val = val_score\n",
    "        \n",
    "    train_score, test_score = run_tree(best_depth, x_train, y_train, x_test, y_test)\n",
    "    if verbose:\n",
    "        print(train_score, test_score)\n",
    "        print(f\"Best max depth: {best_depth}\")\n",
    "        print(f\"Best validation performance: {max_val}\")\n",
    "        print(f\"Test performance: {test_score}\")\n",
    "        plt.plot(depths, val_scores)\n",
    "        plt.title(\"Decision Tree Hyperparameter (depth) tuning\")\n",
    "        plt.show()\n",
    "    return max_val, test_score, best_depth\n",
    "\n",
    "tune_tree(verbose=True)"
   ]
  },
  {
   "cell_type": "markdown",
   "metadata": {},
   "source": [
    "## Repeat the experiment multiple times"
   ]
  },
  {
   "cell_type": "code",
   "execution_count": 78,
   "metadata": {},
   "outputs": [
    {
     "data": {
      "image/png": "[encoded data removed]",
      "text/plain": [
       "<Figure size 432x288 with 1 Axes>"
      ]
     },
     "metadata": {
      "needs_background": "light"
     },
     "output_type": "display_data"
    }
   ],
   "source": [
    "# Initialize lists\n",
    "log_vals = []\n",
    "log_tests = []\n",
    "log_params = []\n",
    "svc_vals = []\n",
    "svc_tests = []\n",
    "svc_param1s = []\n",
    "svc_param2s = []\n",
    "tree_vals = []\n",
    "tree_tests = []\n",
    "tree_params = []\n",
    "\n",
    "# Run expirement many times\n",
    "max_repetitions = 100\n",
    "for _ in range(max_repetitions):\n",
    "    log_val, log_test, log_param = tune_log_reg(verbose=False)\n",
    "    log_vals.append(log_val)\n",
    "    log_tests.append(log_test)\n",
    "    log_params.append(log_param)\n",
    "\n",
    "    svc_val, svc_test, svc_param1, svc_param2 = tune_svc(verbose=False)\n",
    "    svc_vals.append(svc_val)\n",
    "    svc_tests.append(svc_test)\n",
    "    svc_param1s.append(svc_param1)\n",
    "    svc_param2s.append(svc_param2)\n",
    "\n",
    "    tree_val, tree_test, tree_param = tune_tree(verbose=False)\n",
    "    tree_vals.append(tree_val)\n",
    "    tree_tests.append(tree_test)\n",
    "    tree_params.append(tree_param)\n",
    "\n",
    "# Calculate average\n",
    "avg_log_vals = sum(log_vals) / len(log_vals)\n",
    "avg_log_tests = sum(log_tests) / len(log_tests)\n",
    "avg_log_params = sum(log_params) / len(log_params)\n",
    "\n",
    "avg_svc_vals = sum(svc_vals) / len(svc_vals)\n",
    "avg_svc_tests = sum(svc_tests) / len(svc_tests)\n",
    "avg_svc_param1s = sum(svc_param1s) / len(svc_param1s)\n",
    "avg_svc_param2s = sum(svc_param2s) / len(svc_param2s)\n",
    "\n",
    "avg_tree_vals = sum(tree_vals) / len(tree_vals)\n",
    "avg_tree_tests = sum(tree_tests) / len(tree_tests)\n",
    "avg_tree_params = sum(tree_params) / len(tree_params)"
   ]
  },
  {
   "cell_type": "code",
   "execution_count": 80,
   "metadata": {},
   "outputs": [
    {
     "name": "stdout",
     "output_type": "stream",
     "text": [
      "Logistic Regression\n",
      "Average Validation: 0.7509499999999999, Average Test: 0.7309999999999998 Average C: 0.7336\n",
      "SVC\n",
      "Average Validation: 0.5502, Average Test: 0.5350000000000003 Average C: 0.9205999999999994, Average Gamma: 0.18499999999999986\n",
      "Decision Tree\n",
      "Average Validation: 0.8823499999999999, Average Test: 0.8219999999999997, Average Depth: 7.93\n"
     ]
    },
    {
     "data": {
      "image/png": "[encoded data removed]",
      "text/plain": [
       "<Figure size 432x288 with 1 Axes>"
      ]
     },
     "metadata": {
      "needs_background": "light"
     },
     "output_type": "display_data"
    }
   ],
   "source": [
    "print(\"Logistic Regression\")\n",
    "print(f\"Average Validation: {avg_log_vals}, Average Test: {avg_log_tests} Average C: {avg_log_params}\")\n",
    "print(\"SVC\")\n",
    "print(f\"Average Validation: {avg_svc_vals}, Average Test: {avg_svc_tests} Average C: {avg_svc_param1s}, Average Gamma: {avg_svc_param2s}\")\n",
    "print(\"Decision Tree\")\n",
    "print(f\"Average Validation: {avg_tree_vals}, Average Test: {avg_tree_tests}, Average Depth: {avg_tree_params}\")\n",
    "\n",
    "plt.boxplot([log_tests, svc_tests, tree_tests])\n",
    "plt.show()"
   ]
  },
  {
   "cell_type": "code",
   "execution_count": null,
   "metadata": {},
   "outputs": [],
   "source": []
  }
 ],
 "metadata": {
  "kernelspec": {
   "display_name": "Python 3",
   "language": "python",
   "name": "python3"
  },
  "language_info": {
   "codemirror_mode": {
    "name": "ipython",
    "version": 3
   },
   "file_extension": ".py",
   "mimetype": "text/x-python",
   "name": "python",
   "nbconvert_exporter": "python",
   "pygments_lexer": "ipython3",
   "version": "3.7.3"
  }
 },
 "nbformat": 4,
 "nbformat_minor": 4
}
