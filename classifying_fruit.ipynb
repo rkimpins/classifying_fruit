{
 "cells": [
  {
   "cell_type": "code",
   "execution_count": 114,
   "metadata": {},
   "outputs": [],
   "source": [
    "# Import\n",
    "import numpy as np\n",
    "import pandas as pd\n",
    "import matplotlib.pyplot as plt\n",
    "from sklearn.model_selection import train_test_split\n",
    "from sklearn.datasets import fetch_mldata\n",
    "from sklearn.preprocessing import MinMaxScaler\n",
    "from sklearn.linear_model import LogisticRegression\n",
    "from sklearn.linear_model import LinearRegression\n",
    "from sklearn.linear_model import BayesianRidge\n",
    "from sklearn import svm\n",
    "from sklearn import tree\n",
    "from sklearn.model_selection import KFold"
   ]
  },
  {
   "cell_type": "markdown",
   "metadata": {},
   "source": [
    "## Read and format dataset"
   ]
  },
  {
   "cell_type": "code",
   "execution_count": 116,
   "metadata": {},
   "outputs": [],
   "source": [
    "def get_data():\n",
    "    # dataset from https://github.com/susanli2016/Machine-Learning-with-Python/blob/master/fruit_data_with_colors.txt\n",
    "    df = pd.read_csv('fruit.txt', sep='\\t')\n",
    "    # Randomize the order\n",
    "    df = df.sample(frac=1).reset_index(drop=True)\n",
    "    target = df[\"fruit_label\"]\n",
    "    data = df.iloc[:,3:]\n",
    "    #size = int(df.shape[0] * 0.1)\n",
    "    size = 10\n",
    "    x_train, x_test, y_train, y_test = train_test_split(data, target, test_size = size, random_state = 0)\n",
    "    print(f\"Training set size: {x_train.shape[0]}, Test set size: {x_test.shape[0]}\")\n",
    "    x_train = np.array(x_train.values)\n",
    "    x_test = np.array(x_test.values)\n",
    "    y_train = np.array(y_train.values)\n",
    "    y_test = np.array(y_test.values)\n",
    "    return x_train, x_test, y_train, y_test"
   ]
  },
  {
   "cell_type": "markdown",
   "metadata": {},
   "source": [
    "## Machine Learning algorithms as functions to enable parameter tuning"
   ]
  },
  {
   "cell_type": "code",
   "execution_count": 117,
   "metadata": {},
   "outputs": [],
   "source": [
    "# Logistic regression\n",
    "def run_log_reg(C, max_iterations, x_train, y_train, x_val, y_val):\n",
    "    log_reg = LogisticRegression(solver=\"lbfgs\", max_iter=max_iterations, multi_class=\"auto\", C = C)\n",
    "    log_reg.fit(x_train, y_train)\n",
    "    train_score = log_reg.score(x_train, y_train)\n",
    "    val_score = log_reg.score(x_val, y_val)\n",
    "    return train_score, val_score"
   ]
  },
  {
   "cell_type": "code",
   "execution_count": 118,
   "metadata": {},
   "outputs": [],
   "source": [
    "# SVM max margin classification\n",
    "def run_svc(C, gamma, x_train, y_train, x_val, y_val):\n",
    "    clf = svm.SVC(gamma=gamma, C = C)#kernel='poly',degree = 3, gamma='scale')\n",
    "    clf.fit(x_train, y_train)\n",
    "    train_score = clf.score(x_train, y_train)\n",
    "    val_score = clf.score(x_val, y_val)\n",
    "    return train_score, val_score"
   ]
  },
  {
   "cell_type": "code",
   "execution_count": 119,
   "metadata": {},
   "outputs": [],
   "source": [
    "# Decision Tree\n",
    "def run_tree(max_depth, x_train, y_train, x_val, y_val):\n",
    "    clf = tree.DecisionTreeClassifier(splitter=\"random\", max_depth=max_depth)\n",
    "    clf = clf.fit(x_train, y_train)\n",
    "    train_score = clf.score(x_train, y_train)\n",
    "    val_score = clf.score(x_val, y_val)\n",
    "    tree.plot_tree(clf)\n",
    "    return train_score, val_score"
   ]
  },
  {
   "cell_type": "code",
   "execution_count": 125,
   "metadata": {},
   "outputs": [],
   "source": [
    "global_tests = []\n",
    "global_param1 = []\n",
    "global_param2 = []"
   ]
  },
  {
   "cell_type": "code",
   "execution_count": 127,
   "metadata": {},
   "outputs": [
    {
     "name": "stdout",
     "output_type": "stream",
     "text": [
      "Training set size: 49, Test set size: 10\n",
      "[0.6757070707070707, 0.6757070707070707, 0.7618686868686869, 0.7822727272727273, 0.7868181818181819, 0.789090909090909, 0.789090909090909, 0.7913131313131312, 0.7958585858585858, 0.8003535353535354, 0.8004040404040405, 0.7958585858585858, 0.7958585858585858, 0.7958585858585858, 0.7958585858585858, 0.7958585858585858, 0.7958585858585858]\n",
      "[0.625, 0.625, 0.6849999999999999, 0.73, 0.73, 0.73, 0.7699999999999999, 0.7699999999999999, 0.7699999999999998, 0.7899999999999998, 0.7899999999999998, 0.7499999999999999, 0.7699999999999999, 0.7699999999999999, 0.7699999999999999, 0.7499999999999999, 0.7699999999999999]\n",
      "0.8\n",
      "10000\n",
      "0.8444444444444444 0.7\n",
      "Best C: 0.8\n",
      "Best validation performance: 0.7899999999999998\n",
      "Test performance: 0.7\n"
     ]
    },
    {
     "data": {
      "image/png": "[encoded data removed]",
      "text/plain": [
       "<Figure size 432x288 with 1 Axes>"
      ]
     },
     "metadata": {
      "needs_background": "light"
     },
     "output_type": "display_data"
    },
    {
     "name": "stdout",
     "output_type": "stream",
     "text": [
      "Over 2 trials, average test score: 0.7, average C: 0.8\n"
     ]
    }
   ],
   "source": [
    "# Hyperparameter Tuning\n",
    "x_rest, x_test, y_rest, y_test = get_data()\n",
    "\n",
    "Cs = [0.01, 0.01, 0.05, 0.09, 0.1, 0.11, 0.15, 0.2, 0.5, 0.8, 0.9, 0.95, 0.96, 0.97, 0.98, 0.99, 1]\n",
    "max_iters_tuning = [10000]\n",
    "train_scores = []\n",
    "val_scores = []\n",
    "max_train = 0\n",
    "max_val = 0\n",
    "best_C = 0\n",
    "best_iters = 0\n",
    "splits = 10\n",
    "for C in Cs:\n",
    "    for max_iters in max_iters_tuning:\n",
    "        kf = KFold(n_splits=splits)\n",
    "        kf.get_n_splits(x_rest)\n",
    "        split_train_scores = []\n",
    "        split_val_scores = []\n",
    "        for train_index, val_index in kf.split(x_rest):\n",
    "            x_train, x_val = x_rest[train_index], x_rest[val_index]\n",
    "            y_train, y_val = y_rest[train_index], y_rest[val_index]\n",
    "            train_score, val_score = run_log_reg(C, max_iters, x_train, y_train, x_val, y_val)\n",
    "            split_train_scores.append(train_score)\n",
    "            split_val_scores.append(val_score)\n",
    "        train_score = sum(split_train_scores) / len(split_train_scores)\n",
    "        val_score = sum(split_val_scores) / len(split_val_scores)\n",
    "        train_scores.append(train_score)\n",
    "        val_scores.append(val_score)\n",
    "        if val_score > max_val:\n",
    "            best_C = C\n",
    "            best_iters = max_iters\n",
    "            max_val = val_score\n",
    "            \n",
    "print(train_scores)\n",
    "print(val_scores)\n",
    "print(best_C)\n",
    "print(best_iters)\n",
    "train_score, test_score = run_log_reg(best_C, best_iters, x_train, y_train, x_test, y_test)\n",
    "print(train_score, test_score)\n",
    "print(f\"Best C: {best_C}\")\n",
    "print(f\"Best validation performance: {max_val}\")\n",
    "print(f\"Test performance: {test_score}\")\n",
    "plt.plot(Cs, val_scores)\n",
    "plt.title(\"Logistic Regression Hyperparameter (C) tuning\")\n",
    "plt.show()\n",
    "global_tests.append(test_score)\n",
    "global_param1.append(best_C)\n",
    "print(f\"Over {len(global_tests)} trials, average test score: {sum(global_tests) / len(global_tests)}, average C: {sum(global_param1) / len(global_param1)}\")"
   ]
  },
  {
   "cell_type": "code",
   "execution_count": 67,
   "metadata": {},
   "outputs": [
    {
     "name": "stdout",
     "output_type": "stream",
     "text": [
      "Training set size: 54, Test set size: 5\n",
      "[0.4421343537414967, 0.4421343537414967, 0.4421343537414967, 0.4421343537414967, 0.4421343537414967, 0.4421343537414967, 0.47287414965986396, 0.5372448979591837, 0.7548044217687073, 0.857780612244898, 0.8660714285714285, 0.868154761904762, 0.8701955782312926, 0.8701955782312926, 0.8701955782312926, 0.8722789115646258, 0.8722789115646258, 0.48741496598639455, 0.48741496598639455, 0.48741496598639455, 0.48741496598639455, 0.48741496598639455, 0.48741496598639455, 0.49774659863945575, 0.5554846938775511, 0.7712159863945578, 0.9114795918367348, 0.9217261904761903, 0.9238095238095239, 0.9238095238095239, 0.9258503401360544, 0.9258503401360544, 0.9258503401360544, 0.9278911564625851, 0.5017857142857143, 0.5017857142857143, 0.5017857142857143, 0.5017857142857143, 0.5017857142857143, 0.5017857142857143, 0.5017857142857143, 0.5182397959183673, 0.7938350340136054, 0.9525935374149659, 0.9546343537414966, 0.9587585034013605, 0.9587585034013605, 0.9587585034013605, 0.9587585034013605, 0.9587585034013605, 0.9587585034013605, 0.5038690476190476, 0.5038690476190476, 0.5038690476190476, 0.5038690476190476, 0.5038690476190476, 0.5038690476190476, 0.5038690476190476, 0.5101190476190476, 0.7652210884353742, 0.9567176870748298, 0.9629251700680271, 0.9649659863945578, 0.9649659863945578, 0.9649659863945578, 0.9649659863945578, 0.9649659863945578, 0.9649659863945578, 0.5038690476190476, 0.5038690476190476, 0.5038690476190476, 0.5038690476190476, 0.5038690476190476, 0.5038690476190476, 0.5038690476190476, 0.5101190476190476, 0.7570578231292517, 0.9567176870748298, 0.9649659863945578, 0.9649659863945578, 0.9649659863945578, 0.9649659863945578, 0.9649659863945578, 0.9649659863945578, 0.9649659863945578]\n",
      "[0.13333333333333336, 0.13333333333333336, 0.13333333333333336, 0.13333333333333336, 0.13333333333333336, 0.13333333333333336, 0.13333333333333336, 0.2033333333333333, 0.2733333333333333, 0.4566666666666667, 0.4566666666666667, 0.4566666666666667, 0.4566666666666667, 0.4566666666666667, 0.47666666666666674, 0.47666666666666674, 0.49333333333333335, 0.12999999999999998, 0.12999999999999998, 0.12999999999999998, 0.12999999999999998, 0.12999999999999998, 0.12999999999999998, 0.12999999999999998, 0.14666666666666667, 0.29, 0.41999999999999993, 0.45666666666666667, 0.51, 0.51, 0.51, 0.51, 0.51, 0.51, 0.15, 0.15, 0.15, 0.15, 0.15, 0.15, 0.15, 0.15, 0.36666666666666675, 0.45999999999999996, 0.45999999999999996, 0.45999999999999996, 0.45999999999999996, 0.45999999999999996, 0.45999999999999996, 0.45999999999999996, 0.45999999999999996, 0.13333333333333336, 0.13333333333333336, 0.13333333333333336, 0.13333333333333336, 0.13333333333333336, 0.13333333333333336, 0.13333333333333336, 0.13333333333333336, 0.35000000000000003, 0.48, 0.48, 0.48, 0.48, 0.48, 0.48, 0.48, 0.48, 0.13333333333333336, 0.13333333333333336, 0.13333333333333336, 0.13333333333333336, 0.13333333333333336, 0.13333333333333336, 0.13333333333333336, 0.13333333333333336, 0.33, 0.4999999999999999, 0.48, 0.48, 0.48, 0.48, 0.48, 0.48, 0.48]\n",
      "0.8979591836734694 0.6\n",
      "Best gamma: 0.2\n",
      "Best C: 0.95\n",
      "Best validation performance: 0.51\n",
      "Test performance: 0.6\n"
     ]
    }
   ],
   "source": [
    "# Hyperparameter Tuning\n",
    "x_rest, x_test, y_rest, y_test = get_data()\n",
    "\n",
    "gammas = [0.1, 0.2, 0.5, 0.9, 1]\n",
    "#gammas = [0.2]\n",
    "Cs = [0.01, 0.01, 0.05, 0.09, 0.1, 0.11, 0.15, 0.2, 0.5, 0.8, 0.9, 0.95, 0.96, 0.97, 0.98, 0.99, 1]\n",
    "#Cs = [0.95]\n",
    "train_scores = []\n",
    "val_scores = []\n",
    "max_train = 0\n",
    "max_val = 0\n",
    "best_C = 0\n",
    "best_gamma = 0\n",
    "splits = 10\n",
    "for gamma in gammas:\n",
    "    for C in Cs:\n",
    "        kf = KFold(n_splits=splits)\n",
    "        kf.get_n_splits(x_rest)\n",
    "        split_train_scores = []\n",
    "        split_val_scores = []\n",
    "        for train_index, val_index in kf.split(x_rest):\n",
    "            x_train, x_val = x_rest[train_index], x_rest[val_index]\n",
    "            y_train, y_val = y_rest[train_index], y_rest[val_index]\n",
    "            train_score, val_score = run_svc(C, gamma, x_train, y_train, x_val, y_val)\n",
    "            split_train_scores.append(train_score)\n",
    "            split_val_scores.append(val_score)\n",
    "        train_score = sum(split_train_scores) / len(split_train_scores)\n",
    "        val_score = sum(split_val_scores) / len(split_val_scores)\n",
    "        train_scores.append(train_score)\n",
    "        val_scores.append(val_score)\n",
    "        if val_score > max_val:\n",
    "            best_gamma = gamma\n",
    "            best_C = C\n",
    "            max_val = val_score\n",
    "\n",
    "print(train_scores)\n",
    "print(val_scores)\n",
    "train_score, test_score = run_svc(best_C, best_gamma, x_train, y_train, x_test, y_test)\n",
    "print(train_score, test_score)\n",
    "print(f\"Best gamma: {best_gamma}\")\n",
    "print(f\"Best C: {best_C}\")\n",
    "print(f\"Best validation performance: {max_val}\")\n",
    "print(f\"Test performance: {test_score}\")\n",
    "#plt.plot(Cs, val_scores)\n",
    "#plt.title(\"SVC Hyperparameter (C, gamma = 0.2) tuning\")\n",
    "#plt.show()"
   ]
  },
  {
   "cell_type": "code",
   "execution_count": 69,
   "metadata": {},
   "outputs": [
    {
     "name": "stdout",
     "output_type": "stream",
     "text": [
      "Training set size: 54, Test set size: 5\n",
      "[0.49774659863945575, 0.6601190476190476, 0.7116921768707483, 0.8436649659863946, 0.8829081632653061, 0.9463860544217686, 0.9711734693877551, 0.9938775510204081, 0.9896683673469389, 1.0]\n",
      "[0.38666666666666666, 0.40666666666666673, 0.6333333333333332, 0.6866666666666666, 0.8133333333333332, 0.8033333333333333, 0.8333333333333334, 0.8133333333333332, 0.9100000000000001, 0.7933333333333332]\n",
      "1.0 0.8\n",
      "Best max depth: 9\n",
      "Best validation performance: 0.9100000000000001\n",
      "Test performance: 0.8\n"
     ]
    },
    {
     "data": {
      "image/png": "[encoded data removed]",
      "text/plain": [
       "<Figure size 432x288 with 1 Axes>"
      ]
     },
     "metadata": {
      "needs_background": "light"
     },
     "output_type": "display_data"
    }
   ],
   "source": [
    "# Hyperparameter Tuning\n",
    "x_rest, x_test, y_rest, y_test = get_data()\n",
    "\n",
    "depths = [1, 2, 3, 4, 5, 6, 7, 8, 9, 10]\n",
    "train_scores = []\n",
    "val_scores = []\n",
    "max_train = 0\n",
    "max_val = 0\n",
    "best_depth = 0\n",
    "splits = 10\n",
    "for depth in depths:\n",
    "    kf = KFold(n_splits=splits)\n",
    "    kf.get_n_splits(x_rest)\n",
    "    split_train_scores = []\n",
    "    split_val_scores = []\n",
    "    for train_index, val_index in kf.split(x_rest):\n",
    "        x_train, x_val = x_rest[train_index], x_rest[val_index]\n",
    "        y_train, y_val = y_rest[train_index], y_rest[val_index]\n",
    "        train_score, val_score = run_tree(depth, x_train, y_train, x_val, y_val)\n",
    "        split_train_scores.append(train_score)\n",
    "        split_val_scores.append(val_score)\n",
    "    train_score = sum(split_train_scores) / len(split_train_scores)\n",
    "    val_score = sum(split_val_scores) / len(split_val_scores)\n",
    "    train_scores.append(train_score)\n",
    "    val_scores.append(val_score)\n",
    "    if val_score > max_val:\n",
    "        best_depth = depth\n",
    "        max_val = val_score\n",
    "\n",
    "print(train_scores)\n",
    "print(val_scores)\n",
    "train_score, test_score = run_tree(best_depth, x_train, y_train, x_test, y_test)\n",
    "print(train_score, test_score)\n",
    "print(f\"Best max depth: {best_depth}\")\n",
    "print(f\"Best validation performance: {max_val}\")\n",
    "print(f\"Test performance: {test_score}\")\n",
    "plt.plot(depths, val_scores)\n",
    "plt.title(\"Decision Tree Hyperparameter (depth) tuning\")\n",
    "plt.show()"
   ]
  },
  {
   "cell_type": "code",
   "execution_count": null,
   "metadata": {},
   "outputs": [],
   "source": [
    "#Split data into targets and labels for our trainings, validation, and test sets\n",
    "train_size = 0.8\n",
    "val_size = 0.1\n",
    "test_size = 0.1\n",
    "x_train, y_train, x_val, y_val, x_test, y_test = split_dataset(0.8, 0.1, 0.1, df)\n"
   ]
  },
  {
   "cell_type": "code",
   "execution_count": null,
   "metadata": {},
   "outputs": [],
   "source": [
    "from sklearn import svm\n",
    "clf = svm.SVC(kernel='poly',degree = 3, gamma='scale')\n",
    "clf.fit(x_train, y_train)\n",
    "clf.predict(x_test)\n",
    "print(clf.score(x_test, y_test))\n",
    "print(clf.score(x_val, y_val))\n",
    "print(clf.score(x_train, y_train))"
   ]
  },
  {
   "cell_type": "code",
   "execution_count": null,
   "metadata": {},
   "outputs": [],
   "source": [
    "def split_dataset(train_size, val_size, test_size, dataset):\n",
    "    #Split data into targets and labels for our trainings, validation, and test sets\n",
    "    dataset = dataset.sample(frac=1).reset_index(drop=True)\n",
    "    data = dataset.iloc[:,:-1]\n",
    "    target = df.iloc[:,-1]\n",
    "    x_train, x_val, x_test = np.split(data.sample(frac=1), [int(train_size*len(df)), int(1-val_size*len(df))])\n",
    "    y_train, y_val, y_test = np.split(target.sample(frac=1), [int(train_size*len(df)), int(1-val_size*len(df))])\n",
    "    #print(x_train.shape, x_val.shape, x_test.shape)\n",
    "    #print(y_train.shape, y_val.shape, y_test.shape)\n",
    "    return x_train, y_train, x_val, y_val, x_test, y_test\n",
    "    "
   ]
  },
  {
   "cell_type": "code",
   "execution_count": 113,
   "metadata": {},
   "outputs": [
    {
     "name": "stdout",
     "output_type": "stream",
     "text": [
      "Most common target is 1 or 3 (tied)\n",
      "Accuracy of majority guess is 19 / 59 = 0.3220338983050847\n"
     ]
    }
   ],
   "source": [
    "print(f\"Most common target is {df.fruit_label.mode()[0]} or {df.fruit_label.mode()[1]} (tied)\")\n",
    "print(f\"Accuracy of majority guess is {df.fruit_label.value_counts().max()} / {df.shape[0]} = {df.fruit_label.value_counts().max() / df.shape[0]}\")"
   ]
  }
 ],
 "metadata": {
  "kernelspec": {
   "display_name": "Python 3",
   "language": "python",
   "name": "python3"
  },
  "language_info": {
   "codemirror_mode": {
    "name": "ipython",
    "version": 3
   },
   "file_extension": ".py",
   "mimetype": "text/x-python",
   "name": "python",
   "nbconvert_exporter": "python",
   "pygments_lexer": "ipython3",
   "version": "3.7.3"
  }
 },
 "nbformat": 4,
 "nbformat_minor": 4
}
